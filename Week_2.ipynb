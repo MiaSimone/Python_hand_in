{
 "cells": [
  {
   "cell_type": "markdown",
   "metadata": {},
   "source": [
    "# Week 2 handin"
   ]
  },
  {
   "cell_type": "markdown",
   "metadata": {},
   "source": [
    "## Assignment\n",
    "Here is the text for the assignment linked to"
   ]
  },
  {
   "cell_type": "markdown",
   "metadata": {},
   "source": [
    "## Status\n",
    "Here is a status on the handin. How far you got. What is implemented and what is not"
   ]
  },
  {
   "cell_type": "markdown",
   "metadata": {},
   "source": [
    "## Solution part 1"
   ]
  },
  {
   "cell_type": "markdown",
   "metadata": {},
   "source": [
    "#### 1. Create a python file with 3 functions"
   ]
  },
  {
   "cell_type": "code",
   "execution_count": null,
   "metadata": {},
   "outputs": [],
   "source": [
    "# First function\n",
    "\n",
    "from modules import week2ex1 as ex\n",
    "\n",
    "file_path = '/home/jovyan/python_handin_template/modules/test.csv' \n",
    "\n",
    "ex.print_file_content(file_path)"
   ]
  },
  {
   "cell_type": "code",
   "execution_count": null,
   "metadata": {},
   "outputs": [],
   "source": [
    "# Second function\n",
    "\n",
    "from modules import week2ex1 as ex\n",
    "\n",
    "file_path = '/home/jovyan/python_handin_template/modules/test.csv' \n",
    "\n",
    "lst = ['1', '2033', '1000', '1100']\n",
    "\n",
    "ex.write_list_to_file(file_path, lst)\n"
   ]
  },
  {
   "cell_type": "code",
   "execution_count": null,
   "metadata": {},
   "outputs": [],
   "source": [
    "# Second part 2\n",
    "\n",
    "from modules import week2ex1 as ex\n",
    "\n",
    "file_path = '/home/jovyan/python_handin_template/modules/test.csv' \n",
    "\n",
    "lst = ['1', '2033', '1000', '1100']\n",
    "\n",
    "#ex.write_arb_to_file(file_path, ['300', '400', '500', '600'],'3', '400', '500', '666')\n",
    "ex.write_arb_to_file(file_path,'3', '400', '500', '666')\n"
   ]
  },
  {
   "cell_type": "code",
   "execution_count": null,
   "metadata": {},
   "outputs": [],
   "source": [
    "# Third function\n",
    "\n",
    "from modules import week2ex1 as ex\n",
    "\n",
    "file_path = '/home/jovyan/python_handin_template/modules/test.csv' \n",
    "\n",
    "ex.read_csv(file_path)\n"
   ]
  },
  {
   "cell_type": "markdown",
   "metadata": {},
   "source": [
    "#### 2. Add a functionality so that the file can be called from cli with 2 arguments"
   ]
  },
  {
   "cell_type": "markdown",
   "metadata": {},
   "source": [
    "See cliExercise.py in VSC"
   ]
  },
  {
   "cell_type": "markdown",
   "metadata": {},
   "source": [
    "## Solution part 2"
   ]
  },
  {
   "cell_type": "code",
   "execution_count": null,
   "metadata": {},
   "outputs": [],
   "source": []
  }
 ],
 "metadata": {
  "kernelspec": {
   "display_name": "Python 3",
   "language": "python",
   "name": "python3"
  },
  "language_info": {
   "codemirror_mode": {
    "name": "ipython",
    "version": 3
   },
   "file_extension": ".py",
   "mimetype": "text/x-python",
   "name": "python",
   "nbconvert_exporter": "python",
   "pygments_lexer": "ipython3",
   "version": "3.7.6"
  }
 },
 "nbformat": 4,
 "nbformat_minor": 4
}
