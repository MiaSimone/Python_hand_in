{
 "cells": [
  {
   "cell_type": "markdown",
   "metadata": {},
   "source": [
    "# Week 3 handin"
   ]
  },
  {
   "cell_type": "markdown",
   "metadata": {},
   "source": [
    "## 01 Assignment\n",
    "Here is the text for the assignment linked to"
   ]
  },
  {
   "cell_type": "markdown",
   "metadata": {},
   "source": [
    "## 02 Status\n",
    "Here is a status on the handin. How far you got. What is implemented and what is not"
   ]
  },
  {
   "cell_type": "markdown",
   "metadata": {},
   "source": [
    "## 03 Solution part 1"
   ]
  },
  {
   "cell_type": "code",
   "execution_count": 24,
   "metadata": {},
   "outputs": [
    {
     "name": "stdout",
     "output_type": "stream",
     "text": [
      "<_csv.reader object at 0x7f38303da750>\n"
     ]
    },
    {
     "ename": "TypeError",
     "evalue": "'NoneType' object is not subscriptable",
     "output_type": "error",
     "traceback": [
      "\u001b[0;31m---------------------------------------------------------------------------\u001b[0m",
      "\u001b[0;31mTypeError\u001b[0m                                 Traceback (most recent call last)",
      "\u001b[0;32m<ipython-input-24-ba7f10078134>\u001b[0m in \u001b[0;36m<module>\u001b[0;34m\u001b[0m\n\u001b[1;32m    152\u001b[0m     \u001b[0;32mreturn\u001b[0m \u001b[0moutput\u001b[0m\u001b[0;34m\u001b[0m\u001b[0;34m\u001b[0m\u001b[0m\n\u001b[1;32m    153\u001b[0m \u001b[0;34m\u001b[0m\u001b[0m\n\u001b[0;32m--> 154\u001b[0;31m \u001b[0mstudents_list\u001b[0m \u001b[0;34m=\u001b[0m \u001b[0mread_data_from_file\u001b[0m\u001b[0;34m(\u001b[0m\u001b[0mfile_path\u001b[0m\u001b[0;34m)\u001b[0m\u001b[0;34m\u001b[0m\u001b[0;34m\u001b[0m\u001b[0m\n\u001b[0m\u001b[1;32m    155\u001b[0m \u001b[0mprinted_students\u001b[0m \u001b[0;34m=\u001b[0m \u001b[0mprint_students\u001b[0m\u001b[0;34m(\u001b[0m\u001b[0mstudents_list\u001b[0m\u001b[0;34m)\u001b[0m\u001b[0;34m\u001b[0m\u001b[0;34m\u001b[0m\u001b[0m\n\u001b[1;32m    156\u001b[0m \u001b[0;31m#print(printed_students)\u001b[0m\u001b[0;34m\u001b[0m\u001b[0;34m\u001b[0m\u001b[0;34m\u001b[0m\u001b[0m\n",
      "\u001b[0;32m<ipython-input-24-ba7f10078134>\u001b[0m in \u001b[0;36mread_data_from_file\u001b[0;34m(file)\u001b[0m\n\u001b[1;32m    127\u001b[0m             \u001b[0mcourses\u001b[0m \u001b[0;34m=\u001b[0m \u001b[0;34m[\u001b[0m\u001b[0;34m]\u001b[0m\u001b[0;34m\u001b[0m\u001b[0;34m\u001b[0m\u001b[0m\n\u001b[1;32m    128\u001b[0m             \u001b[0;32mfor\u001b[0m \u001b[0mi\u001b[0m \u001b[0;32min\u001b[0m \u001b[0mrange\u001b[0m\u001b[0;34m(\u001b[0m\u001b[0;36m0\u001b[0m\u001b[0;34m,\u001b[0m \u001b[0mlen\u001b[0m\u001b[0;34m(\u001b[0m\u001b[0mrow\u001b[0m\u001b[0;34m[\u001b[0m\u001b[0;36m2\u001b[0m\u001b[0;34m]\u001b[0m\u001b[0;34m.\u001b[0m\u001b[0msplit\u001b[0m\u001b[0;34m(\u001b[0m\u001b[0;34m';'\u001b[0m\u001b[0;34m)\u001b[0m\u001b[0;34m)\u001b[0m\u001b[0;34m)\u001b[0m\u001b[0;34m:\u001b[0m\u001b[0;34m\u001b[0m\u001b[0;34m\u001b[0m\u001b[0m\n\u001b[0;32m--> 129\u001b[0;31m                 \u001b[0mcourses\u001b[0m\u001b[0;34m.\u001b[0m\u001b[0mappend\u001b[0m\u001b[0;34m(\u001b[0m\u001b[0mCourse\u001b[0m\u001b[0;34m(\u001b[0m\u001b[0mcourses_obj\u001b[0m\u001b[0;34m.\u001b[0m\u001b[0mget\u001b[0m\u001b[0;34m(\u001b[0m\u001b[0;34m'names'\u001b[0m\u001b[0;34m)\u001b[0m\u001b[0;34m[\u001b[0m\u001b[0mi\u001b[0m\u001b[0;34m]\u001b[0m\u001b[0;34m,\u001b[0m \u001b[0mcourses_obj\u001b[0m\u001b[0;34m.\u001b[0m\u001b[0mget\u001b[0m\u001b[0;34m(\u001b[0m\u001b[0;34m'classroom'\u001b[0m\u001b[0;34m)\u001b[0m\u001b[0;34m[\u001b[0m\u001b[0mi\u001b[0m\u001b[0;34m]\u001b[0m\u001b[0;34m,\u001b[0m \u001b[0mcourses_obj\u001b[0m\u001b[0;34m.\u001b[0m\u001b[0mget\u001b[0m\u001b[0;34m(\u001b[0m\u001b[0;34m'teachers'\u001b[0m\u001b[0;34m)\u001b[0m\u001b[0;34m[\u001b[0m\u001b[0mi\u001b[0m\u001b[0;34m]\u001b[0m\u001b[0;34m,\u001b[0m \u001b[0mcourses_obj\u001b[0m\u001b[0;34m.\u001b[0m\u001b[0mget\u001b[0m\u001b[0;34m(\u001b[0m\u001b[0;34m'ETCS'\u001b[0m\u001b[0;34m)\u001b[0m\u001b[0;34m[\u001b[0m\u001b[0mi\u001b[0m\u001b[0;34m]\u001b[0m\u001b[0;34m,\u001b[0m \u001b[0mcourses_obj\u001b[0m\u001b[0;34m.\u001b[0m\u001b[0mget\u001b[0m\u001b[0;34m(\u001b[0m\u001b[0;34m'grade'\u001b[0m\u001b[0;34m)\u001b[0m\u001b[0;34m[\u001b[0m\u001b[0mi\u001b[0m\u001b[0;34m]\u001b[0m\u001b[0;34m)\u001b[0m\u001b[0;34m)\u001b[0m\u001b[0;34m\u001b[0m\u001b[0;34m\u001b[0m\u001b[0m\n\u001b[0m\u001b[1;32m    130\u001b[0m \u001b[0;34m\u001b[0m\u001b[0m\n\u001b[1;32m    131\u001b[0m             \u001b[0mstudents\u001b[0m\u001b[0;34m.\u001b[0m\u001b[0mappend\u001b[0m\u001b[0;34m(\u001b[0m\u001b[0mStudent\u001b[0m\u001b[0;34m(\u001b[0m\u001b[0mrow\u001b[0m\u001b[0;34m[\u001b[0m\u001b[0;36m0\u001b[0m\u001b[0;34m]\u001b[0m\u001b[0;34m,\u001b[0m \u001b[0mrow\u001b[0m\u001b[0;34m[\u001b[0m\u001b[0;36m1\u001b[0m\u001b[0;34m]\u001b[0m\u001b[0;34m,\u001b[0m \u001b[0mDataSheet\u001b[0m\u001b[0;34m(\u001b[0m\u001b[0mcourses\u001b[0m\u001b[0;34m)\u001b[0m\u001b[0;34m,\u001b[0m \u001b[0mrow\u001b[0m\u001b[0;34m[\u001b[0m\u001b[0;36m7\u001b[0m\u001b[0;34m]\u001b[0m\u001b[0;34m)\u001b[0m\u001b[0;34m)\u001b[0m\u001b[0;34m\u001b[0m\u001b[0;34m\u001b[0m\u001b[0m\n",
      "\u001b[0;31mTypeError\u001b[0m: 'NoneType' object is not subscriptable"
     ]
    }
   ],
   "source": [
    "# 1. Create 3 classes: Student, DataSheet and Course\n",
    "# 2. A student has a data_sheet and a data_sheet has multiple courses in particular order\n",
    "# 3. Each course has name, classroom, teacher, ETCS and optional grade if course is taken.\n",
    "# 4. In Student create init() so that a Student can be initiated with name, gender, data_sheet and image_url\n",
    "# 5. In DataSheet create a method to get_grades_as_list()\n",
    "# 6. In student create a method: get_avg_grade()\n",
    "# 7. Create a function that can generate n number of students with random: name, gender, courses (from a fixed list of \n",
    "#    course names), grades, img_url\n",
    "  # A. Let the function write the result to a csv file with format stud_name, course_name, teacher, ects, classroom, grade, img_url\n",
    "# 8. Read student data into a list of Students from a csv file:\n",
    "  # A. loop through the list and print each student with name, img_url and avg_grade.\n",
    "    \n",
    "    \n",
    "import random\n",
    "from modules.week2 import week2ex1 as ex\n",
    "import csv\n",
    "from operator import itemgetter\n",
    "\n",
    "    \n",
    "class Student():\n",
    "    \n",
    "    def __init__(self, name, gender, data_sheet, image_url):\n",
    "        self.name = name\n",
    "        self.gender = gender\n",
    "        self.data_sheet = data_sheet\n",
    "        self.image_url = image_url\n",
    "        \n",
    "        \n",
    "    def get_avg_grade(data_sheet):\n",
    "        temp_list = data_sheet.get_grades_as_list(data_sheet.courses)\n",
    "        average = sum(temp_list)/len(temp_list)\n",
    "        return average\n",
    "    \n",
    "    def __str__(self):\n",
    "        return '{name} is {gender}. Studies {data_sheet}. Image: {image_url}'.format(\n",
    "            name=self.name, gender=self.gender, data_sheet=self.data_sheet, image_url=self.image_url)\n",
    "\n",
    "class DataSheet():\n",
    "    \n",
    "    def __init__(self, courses=[]):\n",
    "        self.courses = courses\n",
    "        \n",
    "    def get_grades_as_list(self):\n",
    "        grades = []\n",
    "        for course in self.courses: \n",
    "            grades.append(course.grade)\n",
    "        return grades\n",
    "    \n",
    "    \n",
    "class Course():   \n",
    "    \n",
    "    def __init__(self, name, classroom, teacher, ECTS, grade=None):\n",
    "        self.name = name\n",
    "        self.classroom = classroom\n",
    "        self.teacher = teacher\n",
    "        self.ECTS = ECTS\n",
    "        if grade is not None:\n",
    "            self.grade = None\n",
    "        \n",
    "    def __str__(self):\n",
    "        if self.grade is not None:\n",
    "            return 'Course: {name}. Room: {classroom}. Teacher: {teacher}. ECTS: {ECTS}. Grade: {grade}'.format(\n",
    "                name=self.name, classroom=self.classroom, teacher=self.teacher, ECTS=self.ECTS, grade=self.grade)\n",
    "        else:\n",
    "             return 'Course: {name}. Room: {classroom}. Teacher: {teacher}. ECTS: {ECTS}'.format(\n",
    "                name=self.name, classroom=self.classroom, teacher=self.teacher, ECTS=self.ECTS)\n",
    "        \n",
    "    def __repr__(self):\n",
    "        return self.__str__()\n",
    "    \n",
    "file_path = '/home/jovyan/python_handin_template/modules/week3/students.txt' \n",
    "    \n",
    "def random_student(number):\n",
    "    \n",
    "    kemi = Course('Kemi', 2230, 'Harry Styles', 30)\n",
    "    fysik = Course('Fysik', 2231, 'Benny', 20)\n",
    "    danish = Course('Danish', 2233, 'Lisbeth', 30)\n",
    "    history = Course('History', 2234, 'Carsten Ree', 30)\n",
    "    \n",
    "    names = ['Amy', 'Carl', 'Terry', 'Mia', 'Selina', 'Jake', 'Jason', 'Mike', 'Lycy']\n",
    "    genders = ['Male', 'Female']\n",
    "    courses = [kemi, fysik, danish, history]\n",
    "    grades = [(-3), 0, 2, 4, 7, 10, 12]\n",
    "    img_url_list = ['Img.jpg', 'Img.jpg', 'Img.jpg']\n",
    "    \n",
    "    for i in range(number):\n",
    "        for e in range(number):\n",
    "            rand_name = random.choice(names)\n",
    "            rand_gender = random.choice(genders)\n",
    "            rand_image = random.choice(img_url_list)\n",
    "            \n",
    "            d = DataSheet(courses)\n",
    "            courseList = []\n",
    "            for course in d.courses:\n",
    "                courseList.append(course)\n",
    "            rand_course = random.choice(courseList)\n",
    "            \n",
    "            gradeList = d.get_grades_as_list()\n",
    "            gradeList.append((-3))\n",
    "            gradeList.append((0))\n",
    "            gradeList.append((2))\n",
    "            gradeList.append((4))\n",
    "            gradeList.append((7))\n",
    "            gradeList.append((10))\n",
    "            gradeList.append((12))\n",
    "                \n",
    "            rand_grade = random.choice(gradeList)\n",
    "        \n",
    "            \n",
    "            courseList = []\n",
    "            for course in d.courses:\n",
    "                courseList.append(course.name)\n",
    "            lst = [((rand_name, rand_gender, rand_course.name, rand_course.teacher, rand_course.ECTS, rand_course.classroom, \n",
    "                     rand_grade, rand_image), '')]\n",
    "\n",
    "            ex.write_list_to_file(file_path, lst)\n",
    "            break   \n",
    "\n",
    "def read_data_from_file(file):\n",
    "    students = []\n",
    "\n",
    "    with open(file) as file_object:\n",
    "        csv_reader = csv.reader(file_object, delimiter=',')\n",
    "        print(csv_reader)\n",
    "        for row in csv_reader:\n",
    "            courses_obj = {'name': row[2].split(';'), 'teachers': row[3].split(';'), 'classroom': row[4].split(';'), 'ECTS': row[5].split(';'), 'grade': row[6].split(';')}\n",
    "            courses = []\n",
    "            for i in range(0, len(row[2].split(';'))):\n",
    "                courses.append(Course(courses_obj.get('names')[i], courses_obj.get('classroom')[i], courses_obj.get('teachers')[i], courses_obj.get('ETCS')[i], courses_obj.get('grade')[i]))\n",
    "            \n",
    "            students.append(Student(row[0], row[1], DataSheet(courses), row[7]))\n",
    "        \n",
    "        return students\n",
    "#     with open(file,'r') as file_object:\n",
    "#         lines = file_object.readlines()\n",
    "\n",
    "#     students = []\n",
    "#     for line in lines:\n",
    "#         print(type(line))\n",
    "#         students.append(line.rstrip('()'))\n",
    "#         #string += line.rstrip('()')\n",
    "#         # pi_string += line.strip()\n",
    "\n",
    "#     return students \n",
    "\n",
    "\n",
    "def print_students(list_of_students):\n",
    "    output = []\n",
    "    for student in list_of_students:\n",
    "        output.append([student.name, student.image_url, student.get_average_grade()])\n",
    "    output.sort(key=itemgetter(2), reverse=True)\n",
    "    return output\n",
    "\n",
    "students_list = read_data_from_file(file_path)\n",
    "printed_students = print_students(students_list)\n",
    "#print(printed_students)\n",
    "#print(random_student(5))\n",
    "print(students_list)\n",
    "# NOT WORKING print(print_students(read_data_from_file(file_path)))"
   ]
  },
  {
   "cell_type": "code",
   "execution_count": null,
   "metadata": {},
   "outputs": [],
   "source": [
    "# 1.2 some code here with docstrings"
   ]
  },
  {
   "cell_type": "code",
   "execution_count": null,
   "metadata": {},
   "outputs": [],
   "source": [
    "# 1.3"
   ]
  },
  {
   "cell_type": "markdown",
   "metadata": {},
   "source": [
    "## 04 Solution part 2"
   ]
  },
  {
   "cell_type": "code",
   "execution_count": null,
   "metadata": {},
   "outputs": [],
   "source": [
    "# 2.1"
   ]
  },
  {
   "cell_type": "code",
   "execution_count": null,
   "metadata": {},
   "outputs": [],
   "source": []
  },
  {
   "cell_type": "code",
   "execution_count": null,
   "metadata": {},
   "outputs": [],
   "source": []
  }
 ],
 "metadata": {
  "kernelspec": {
   "display_name": "Python 3",
   "language": "python",
   "name": "python3"
  },
  "language_info": {
   "codemirror_mode": {
    "name": "ipython",
    "version": 3
   },
   "file_extension": ".py",
   "mimetype": "text/x-python",
   "name": "python",
   "nbconvert_exporter": "python",
   "pygments_lexer": "ipython3",
   "version": "3.7.6"
  }
 },
 "nbformat": 4,
 "nbformat_minor": 4
}
