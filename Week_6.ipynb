{
 "cells": [
  {
   "cell_type": "markdown",
   "metadata": {},
   "source": [
    "# Week 6 handin\n"
   ]
  },
  {
   "cell_type": "code",
   "execution_count": null,
   "metadata": {},
   "outputs": [],
   "source": [
    "import requests\n",
    "from concurrent.futures import ThreadPoolExecutor\n",
    "\n",
    "class BookFun():\n",
    "    \n",
    "    \n",
    "    def __init__(self, url_list):\n",
    "        self.url_list = url_list\n",
    "    \n",
    "    # Download to the url_list\n",
    "    def download(self, url, filename):\n",
    "        response= requests.get(url)\n",
    "        status= response.status_code\n",
    "        if status != 404:\n",
    "            self.url_list.append((filename))\n",
    "        else:\n",
    "            print('NoFoundExeption 404')\n",
    "    \n",
    "    # JEG FORSTÅR INTET\n",
    "    \n",
    "    # MANGLER DENNE\n",
    "    def multi_download(self):\n",
    "        return 0\n",
    "    \n",
    "    def __iter__(self):\n",
    "        return self\n",
    "\n",
    "    # urllist_generator() returns a generator to loop through the urls\n",
    "    def urllist_generator():\n",
    "        \n",
    "#     def __next__(self):\n",
    "#         # Stopper når den når til enden af listen\n",
    "#         # Skal printe alle ting i listen\n",
    "        \n",
    "#         listen = self.url_list\n",
    "#         print(listen[0])\n",
    "# #         while listen[10] != 10:\n",
    "            \n",
    "# #         else:\n",
    "# #             raise StopIteration  # signals \"the end\"\n",
    "#         return 1"
   ]
  },
  {
   "cell_type": "code",
   "execution_count": null,
   "metadata": {},
   "outputs": [],
   "source": [
    "\n",
    "url_list = []\n",
    "\n",
    "bookFunObject = BookFun(url_list)\n",
    "\n",
    "bookFunObject.download('https://www.gutenberg.org/ebooks/1342', 'Pride and Prejudice by Jane Austen')\n",
    "bookFunObject.download('https://www.gutenberg.org/ebooks/64317', 'The Great Gatsby by F. Scott Fitzgerald (1530)')\n",
    "\n",
    "# iterObj = iter(bookFunObject)\n",
    "# print(iterObj)\n",
    "\n",
    "# [x for x in bookFunObject]"
   ]
  }
 ],
 "metadata": {
  "kernelspec": {
   "display_name": "Python 3",
   "language": "python",
   "name": "python3"
  },
  "language_info": {
   "codemirror_mode": {
    "name": "ipython",
    "version": 3
   },
   "file_extension": ".py",
   "mimetype": "text/x-python",
   "name": "python",
   "nbconvert_exporter": "python",
   "pygments_lexer": "ipython3",
   "version": "3.7.6"
  }
 },
 "nbformat": 4,
 "nbformat_minor": 4
}
