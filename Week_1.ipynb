{
 "cells": [
  {
   "cell_type": "markdown",
   "metadata": {},
   "source": [
    "# Week 1 handin"
   ]
  },
  {
   "cell_type": "markdown",
   "metadata": {},
   "source": [
    "## 01 Assignment\n",
    "Here is the text for the assignment linked to"
   ]
  },
  {
   "cell_type": "markdown",
   "metadata": {},
   "source": [
    "## 02 Status\n",
    "Here is a status on the handin. How far you got. What is implemented and what is not"
   ]
  },
  {
   "cell_type": "markdown",
   "metadata": {},
   "source": [
    "## 03 Solution part 1"
   ]
  },
  {
   "cell_type": "markdown",
   "metadata": {},
   "source": [
    "#### A)  Iterate a list of names to return a list of the names starting with H"
   ]
  },
  {
   "cell_type": "code",
   "execution_count": 1,
   "metadata": {},
   "outputs": [
    {
     "data": {
      "text/plain": [
       "['Hanne', 'Hans']"
      ]
     },
     "execution_count": 1,
     "metadata": {},
     "output_type": "execute_result"
    }
   ],
   "source": [
    "name_list = [\"Hanne\", \"Susan\", \"Mia\", \"Hans\", \"Carl\"]\n",
    "\n",
    "new_list = [name for name in name_list if name.startswith('H')]\n",
    "new_list"
   ]
  },
  {
   "cell_type": "markdown",
   "metadata": {},
   "source": [
    "#### B) In one line create a list of the numbers 1-100 to the power of 3"
   ]
  },
  {
   "cell_type": "code",
   "execution_count": 2,
   "metadata": {},
   "outputs": [
    {
     "data": {
      "text/plain": [
       "[0, 1, 8, 27, 64]"
      ]
     },
     "execution_count": 2,
     "metadata": {},
     "output_type": "execute_result"
    }
   ],
   "source": [
    "lst_comp = [i**3 for i in range(5)]\n",
    "lst_comp"
   ]
  },
  {
   "cell_type": "markdown",
   "metadata": {},
   "source": [
    "#### C) Iterate a list of names to create a list of tuples where the tuples first value is the length of the name and the second is the name"
   ]
  },
  {
   "cell_type": "code",
   "execution_count": 3,
   "metadata": {},
   "outputs": [
    {
     "data": {
      "text/plain": [
       "[(5, 'Hanne'), (5, 'Susan'), (3, 'Mia'), (4, 'Hans'), (4, 'Carl')]"
      ]
     },
     "execution_count": 3,
     "metadata": {},
     "output_type": "execute_result"
    }
   ],
   "source": [
    "tuples_list = [(len(name),name) for name in name_list]\n",
    "tuples_list"
   ]
  },
  {
   "cell_type": "markdown",
   "metadata": {},
   "source": [
    "#### D) Iterate over each character in a string and get only those that are nummeric"
   ]
  },
  {
   "cell_type": "code",
   "execution_count": 4,
   "metadata": {},
   "outputs": [
    {
     "data": {
      "text/plain": [
       "[32, 2]"
      ]
     },
     "execution_count": 4,
     "metadata": {},
     "output_type": "execute_result"
    }
   ],
   "source": [
    "num_string = \"Jeg elsker katte og har 32 stk. Jeg har også 2 hunde!\"\n",
    "\n",
    "res = [int(i) for i in num_string.split() if i.isdigit()] \n",
    "res"
   ]
  },
  {
   "cell_type": "markdown",
   "metadata": {},
   "source": [
    "#### E) Using only a list comprehension wrapped in set() get all possible combination from throwing 2 dice (hint use 2 for loops in a single list comprehension)"
   ]
  },
  {
   "cell_type": "code",
   "execution_count": 12,
   "metadata": {},
   "outputs": [
    {
     "data": {
      "text/plain": [
       "{(1, 1),\n",
       " (1, 2),\n",
       " (1, 3),\n",
       " (1, 4),\n",
       " (1, 5),\n",
       " (1, 6),\n",
       " (2, 1),\n",
       " (2, 2),\n",
       " (2, 3),\n",
       " (2, 4),\n",
       " (2, 5),\n",
       " (2, 6),\n",
       " (3, 1),\n",
       " (3, 2),\n",
       " (3, 3),\n",
       " (3, 4),\n",
       " (3, 5),\n",
       " (3, 6),\n",
       " (4, 1),\n",
       " (4, 2),\n",
       " (4, 3),\n",
       " (4, 4),\n",
       " (4, 5),\n",
       " (4, 6),\n",
       " (5, 1),\n",
       " (5, 2),\n",
       " (5, 3),\n",
       " (5, 4),\n",
       " (5, 5),\n",
       " (5, 6),\n",
       " (6, 1),\n",
       " (6, 2),\n",
       " (6, 3),\n",
       " (6, 4),\n",
       " (6, 5),\n",
       " (6, 6)}"
      ]
     },
     "execution_count": 12,
     "metadata": {},
     "output_type": "execute_result"
    }
   ],
   "source": [
    "combos = set([(dice1, dice2) for dice1 in list(range(1,7)) for dice2 in list(range(1, 7))])\n",
    "combos"
   ]
  },
  {
   "cell_type": "markdown",
   "metadata": {},
   "source": [
    "## 04 Solution part 2"
   ]
  },
  {
   "cell_type": "markdown",
   "metadata": {},
   "source": [
    "#### A) Iterate a list of names and create a dictionary where key is the name and value is the length of the name"
   ]
  },
  {
   "cell_type": "code",
   "execution_count": 6,
   "metadata": {},
   "outputs": [
    {
     "data": {
      "text/plain": [
       "{'Hanne': 5, 'Susan': 5, 'Mia': 3, 'Hans': 4, 'Carl': 4}"
      ]
     },
     "execution_count": 6,
     "metadata": {},
     "output_type": "execute_result"
    }
   ],
   "source": [
    "names_length = {name : len(name) for name in name_list}\n",
    "names_length"
   ]
  },
  {
   "cell_type": "markdown",
   "metadata": {},
   "source": [
    "#### B) Iterate a list of numbers and create a dictionary with {key:value} being {number:squareroot_of_number}"
   ]
  },
  {
   "cell_type": "code",
   "execution_count": 15,
   "metadata": {},
   "outputs": [
    {
     "data": {
      "text/plain": [
       "{0: 0.0,\n",
       " 1: 1.0,\n",
       " 2: 1.4142135623730951,\n",
       " 3: 1.7320508075688772,\n",
       " 4: 2.0,\n",
       " 5: 2.23606797749979,\n",
       " 6: 2.449489742783178,\n",
       " 7: 2.6457513110645907,\n",
       " 8: 2.8284271247461903,\n",
       " 9: 3.0,\n",
       " 10: 3.1622776601683795,\n",
       " 11: 3.3166247903554,\n",
       " 12: 3.4641016151377544,\n",
       " 13: 3.605551275463989,\n",
       " 14: 3.7416573867739413,\n",
       " 15: 3.872983346207417,\n",
       " 16: 4.0,\n",
       " 17: 4.123105625617661,\n",
       " 18: 4.242640687119285,\n",
       " 19: 4.358898943540674,\n",
       " 20: 4.47213595499958,\n",
       " 21: 4.58257569495584,\n",
       " 22: 4.69041575982343,\n",
       " 23: 4.795831523312719,\n",
       " 24: 4.898979485566356,\n",
       " 25: 5.0,\n",
       " 26: 5.0990195135927845,\n",
       " 27: 5.196152422706632,\n",
       " 28: 5.291502622129181,\n",
       " 29: 5.385164807134504,\n",
       " 30: 5.477225575051661,\n",
       " 31: 5.5677643628300215,\n",
       " 32: 5.656854249492381,\n",
       " 33: 5.744562646538029,\n",
       " 34: 5.830951894845301,\n",
       " 35: 5.916079783099616,\n",
       " 36: 6.0,\n",
       " 37: 6.082762530298219,\n",
       " 38: 6.164414002968976,\n",
       " 39: 6.244997998398398,\n",
       " 40: 6.324555320336759,\n",
       " 41: 6.4031242374328485,\n",
       " 42: 6.48074069840786,\n",
       " 43: 6.557438524302,\n",
       " 44: 6.6332495807108,\n",
       " 45: 6.708203932499369,\n",
       " 46: 6.782329983125268,\n",
       " 47: 6.855654600401044,\n",
       " 48: 6.928203230275509,\n",
       " 49: 7.0,\n",
       " 50: 7.0710678118654755,\n",
       " 51: 7.14142842854285,\n",
       " 52: 7.211102550927978,\n",
       " 53: 7.280109889280518,\n",
       " 54: 7.3484692283495345,\n",
       " 55: 7.416198487095663,\n",
       " 56: 7.483314773547883,\n",
       " 57: 7.54983443527075,\n",
       " 58: 7.615773105863909,\n",
       " 59: 7.681145747868608,\n",
       " 60: 7.745966692414834,\n",
       " 61: 7.810249675906654,\n",
       " 62: 7.874007874011811,\n",
       " 63: 7.937253933193772,\n",
       " 64: 8.0,\n",
       " 65: 8.06225774829855,\n",
       " 66: 8.12403840463596,\n",
       " 67: 8.18535277187245,\n",
       " 68: 8.246211251235321,\n",
       " 69: 8.306623862918075,\n",
       " 70: 8.366600265340756,\n",
       " 71: 8.426149773176359,\n",
       " 72: 8.48528137423857,\n",
       " 73: 8.54400374531753,\n",
       " 74: 8.602325267042627,\n",
       " 75: 8.660254037844387,\n",
       " 76: 8.717797887081348,\n",
       " 77: 8.774964387392123,\n",
       " 78: 8.831760866327848,\n",
       " 79: 8.888194417315589,\n",
       " 80: 8.94427190999916,\n",
       " 81: 9.0,\n",
       " 82: 9.055385138137417,\n",
       " 83: 9.1104335791443,\n",
       " 84: 9.16515138991168,\n",
       " 85: 9.219544457292887,\n",
       " 86: 9.273618495495704,\n",
       " 87: 9.327379053088816,\n",
       " 88: 9.38083151964686,\n",
       " 89: 9.433981132056603,\n",
       " 90: 9.486832980505138,\n",
       " 91: 9.539392014169456,\n",
       " 92: 9.591663046625438,\n",
       " 93: 9.643650760992955,\n",
       " 94: 9.695359714832659,\n",
       " 95: 9.746794344808963,\n",
       " 96: 9.797958971132712,\n",
       " 97: 9.848857801796104,\n",
       " 98: 9.899494936611665,\n",
       " 99: 9.9498743710662}"
      ]
     },
     "execution_count": 15,
     "metadata": {},
     "output_type": "execute_result"
    }
   ],
   "source": [
    "number_roots = {numbers : numbers**0.5 for numbers in list(range(0,100))}\n",
    "\n",
    "number_roots\n"
   ]
  }
 ],
 "metadata": {
  "kernelspec": {
   "display_name": "Python 3",
   "language": "python",
   "name": "python3"
  },
  "language_info": {
   "codemirror_mode": {
    "name": "ipython",
    "version": 3
   },
   "file_extension": ".py",
   "mimetype": "text/x-python",
   "name": "python",
   "nbconvert_exporter": "python",
   "pygments_lexer": "ipython3",
   "version": "3.7.6"
  }
 },
 "nbformat": 4,
 "nbformat_minor": 4
}
