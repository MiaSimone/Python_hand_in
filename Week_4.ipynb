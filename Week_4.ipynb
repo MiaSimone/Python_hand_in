{
 "cells": [
  {
   "cell_type": "markdown",
   "metadata": {},
   "source": [
    "# Week 4 handin\n"
   ]
  },
  {
   "cell_type": "markdown",
   "metadata": {},
   "source": [
    "Use only numpy (not pandas) in these exercises"
   ]
  },
  {
   "cell_type": "markdown",
   "metadata": {},
   "source": [
    "## Exercise 1"
   ]
  },
  {
   "cell_type": "code",
   "execution_count": 1,
   "metadata": {},
   "outputs": [
    {
     "data": {
      "text/plain": [
       "{1: 'Indre By',\n",
       " 2: 'Østerbro',\n",
       " 3: 'Nørrebro',\n",
       " 4: 'Vesterbro/Kgs. Enghave',\n",
       " 5: 'Valby',\n",
       " 6: 'Vanløse',\n",
       " 7: 'Brønshøj-Husum',\n",
       " 8: 'Bispebjerg',\n",
       " 9: 'Amager Øst',\n",
       " 10: 'Amager Vest',\n",
       " 99: 'Udenfor'}"
      ]
     },
     "execution_count": 1,
     "metadata": {},
     "output_type": "execute_result"
    }
   ],
   "source": [
    "import numpy as np\n",
    "\n",
    "filename = '/home/jovyan/data/befkbhalderstatkode.csv'\n",
    "\n",
    "bef_stats_df = np.genfromtxt(filename, delimiter=',', dtype=np.uint, skip_header=1)\n",
    "\n",
    "neighb = {1: 'Indre By', 2: 'Østerbro', 3: 'Nørrebro', 4: 'Vesterbro/Kgs. Enghave', \n",
    "       5: 'Valby', 6: 'Vanløse', 7: 'Brønshøj-Husum', 8: 'Bispebjerg', 9: 'Amager Øst', \n",
    "       10: 'Amager Vest', 99: 'Udenfor'}\n",
    "\n",
    "# Value of the area code (second column, index 1): print(neighb[1])\n",
    "neighb"
   ]
  },
  {
   "cell_type": "markdown",
   "metadata": {},
   "source": [
    "##### 3. Find out how many people lived in each of the 11 areas in 2015"
   ]
  },
  {
   "cell_type": "code",
   "execution_count": 15,
   "metadata": {},
   "outputs": [
    {
     "data": {
      "text/plain": [
       "{'Indre By': 51937,\n",
       " 'Østerbro': 75113,\n",
       " 'Nørrebro': 78802,\n",
       " 'Vesterbro/Kgs. Enghave': 61623,\n",
       " 'Valby': 51727,\n",
       " 'Vanløse': 39537,\n",
       " 'Brønshøj-Husum': 43908,\n",
       " 'Bispebjerg': 53604,\n",
       " 'Amager Øst': 55205,\n",
       " 'Amager Vest': 64967,\n",
       " 'Udenfor': 3872}"
      ]
     },
     "execution_count": 15,
     "metadata": {},
     "output_type": "execute_result"
    }
   ],
   "source": [
    "dd = bef_stats_df\n",
    "\n",
    "mask_year = dd[:,0] == 2015\n",
    "year_arr = dd[mask_year]\n",
    "\n",
    "people_amount = {}\n",
    "\n",
    "for key in neighb:\n",
    "    people_amount[neighb[key]] = year[year[:,1] == key][:,-1].sum()\n",
    "    \n",
    "people_amount\n"
   ]
  },
  {
   "cell_type": "markdown",
   "metadata": {},
   "source": [
    "##### 4. Make a bar plot to show the size of each city area from the smallest to the largest"
   ]
  },
  {
   "cell_type": "code",
   "execution_count": 54,
   "metadata": {},
   "outputs": [
    {
     "name": "stdout",
     "output_type": "stream",
     "text": [
      "dict_keys(['Udenfor', 'Vanløse', 'Brønshøj-Husum', 'Valby', 'Indre By', 'Bispebjerg', 'Amager Øst', 'Vesterbro/Kgs. Enghave', 'Amager Vest', 'Østerbro', 'Nørrebro'])\n"
     ]
    },
    {
     "data": {
      "text/plain": [
       "<function matplotlib.pyplot.show(*args, **kw)>"
      ]
     },
     "execution_count": 54,
     "metadata": {},
     "output_type": "execute_result"
    },
    {
     "data": {
      "image/png": "[encoded data removed]",
      "text/plain": [
       "<Figure size 720x360 with 1 Axes>"
      ]
     },
     "metadata": {
      "needs_background": "light"
     },
     "output_type": "display_data"
    }
   ],
   "source": [
    "# Asuming by 'size' it means the size of the population\n",
    "\n",
    "import matplotlib.pylab as plt\n",
    "\n",
    "sorted_as_tuples = sorted(people_amount.items(), key=lambda item: item[1])\n",
    "people_amount = {k: v for k, v in sorted_as_tuples}\n",
    "\n",
    "plt.figure(figsize = (10, 5))\n",
    "plt.bar(people_amount.keys(), people_amount.values())\n",
    "plt.show"
   ]
  },
  {
   "cell_type": "markdown",
   "metadata": {},
   "source": [
    "##### 5. Create a boolean mask to find out how many people above 65 years lived in Copenhagen in 2015"
   ]
  },
  {
   "cell_type": "code",
   "execution_count": 22,
   "metadata": {},
   "outputs": [
    {
     "name": "stdout",
     "output_type": "stream",
     "text": [
      "Over 65: 55750\n"
     ]
    }
   ],
   "source": [
    "over_65 = dd[(dd[:, 2] > 65) & mask_year]\n",
    "\n",
    "print('Over 65:', over_65[:, -1].sum())\n",
    "\n",
    "# bool_mask = (dd[:,0] == 2015) & (dd[:,2] > 65)\n",
    "# # Alder: col 2 = 65\n",
    "# # copenhagen: col 1 = sum of 1-10\n",
    "# # aar: col 0 = 2015\n",
    "# old_people = np.sum(dd[bool_mask][:,4])\n",
    "# print('There are',old_people, 'people living in CPH over the age of 65.')"
   ]
  },
  {
   "cell_type": "markdown",
   "metadata": {},
   "source": [
    "##### 6. How many of those were from the other nordic countries (not dk)"
   ]
  },
  {
   "cell_type": "code",
   "execution_count": 24,
   "metadata": {},
   "outputs": [
    {
     "name": "stdout",
     "output_type": "stream",
     "text": [
      "From the north: 608\n"
     ]
    }
   ],
   "source": [
    "north = [5101, 5104, 5106, 5107, 5110, 5120, 5901, 5902]\n",
    "print('From the north:', over_65[np.in1d(over_65[:, 3], north)][:, -1].sum())"
   ]
  },
  {
   "cell_type": "markdown",
   "metadata": {},
   "source": [
    "##### 7. Make a line plot showing the changes of number of people in vesterbro and østerbro from 1992 to 2015"
   ]
  },
  {
   "cell_type": "code",
   "execution_count": 28,
   "metadata": {},
   "outputs": [
    {
     "data": {
      "image/png": "[encoded data removed]",
      "text/plain": [
       "<Figure size 720x360 with 1 Axes>"
      ]
     },
     "metadata": {
      "needs_background": "light"
     },
     "output_type": "display_data"
    },
    {
     "name": "stdout",
     "output_type": "stream",
     "text": [
      "[47854, 47589, 47538, 47633, 47734, 48275, 49109, 49520, 50312, 50756, 51039, 51045, 50869, 50643, 50303, 50964, 51466, 53351, 55315, 57150, 58411, 59211, 60328, 61623]\n"
     ]
    },
    {
     "data": {
      "image/png": "[encoded data removed]",
      "text/plain": [
       "<Figure size 432x288 with 1 Axes>"
      ]
     },
     "metadata": {
      "needs_background": "light"
     },
     "output_type": "display_data"
    }
   ],
   "source": [
    "# Change in vesterbro 1992 to 2015 as list:\n",
    "\n",
    "years = np.arange(1992,2016)\n",
    "\n",
    "cities = [2,3]\n",
    "for c in range(len(cities)):\n",
    "    years_dict = {}\n",
    "    for year in years:\n",
    "        years_dict[year] = dd[(dd[:,0] == year) & (dd[:, 1] == cities[c])][:, -1].sum()\n",
    "    cities[c] = years_dict\n",
    "\n",
    "x,y = zip(*sorted(cities[0].items()))\n",
    "x1,y1 = zip(*sorted(cities[1].items()))\n",
    "\n",
    "plt.figure(figsize = (10, 5))\n",
    "plt.plot(x,y, label='Østerbro')\n",
    "plt.plot(x1,y1, label='Vesterbro')\n",
    "\n",
    "plt.legend()\n",
    "plt.show()\n",
    "\n",
    "# vesterbro = []\n",
    "# numberV = 0\n",
    "\n",
    "# for y in years:\n",
    "#     maskV = (dd[:,1] == 4) & (dd[:,0] == y)\n",
    "#     numberV = np.sum(dd[maskV][:,4])\n",
    "#     vesterbro.append(numberV)\n",
    "\n",
    "# print(vesterbro)\n",
    "\n",
    "# plt.plot(years, vesterbro)\n",
    "# plt.show()\n"
   ]
  },
  {
   "cell_type": "markdown",
   "metadata": {},
   "source": [
    "## Exercise 2"
   ]
  },
  {
   "cell_type": "code",
   "execution_count": 34,
   "metadata": {},
   "outputs": [],
   "source": [
    "# 1+2 clean up the data so it only contains numbers\n",
    "\n",
    "import csv\n",
    "\n",
    "with open('/home/jovyan/data/FOLK1A.csv') as file, open(\"demografic_cleaned.csv\", 'w') as outfile:\n",
    "    csv_reader = csv.reader(file, delimiter=';')\n",
    "    next(csv_reader, None)\n",
    "    for row in csv_reader:\n",
    "        row[3] = row[3][0: -2]\n",
    "        outfile.writelines(';'.join(row) + '\\n')\n"
   ]
  },
  {
   "cell_type": "code",
   "execution_count": 50,
   "metadata": {},
   "outputs": [
    {
     "data": {
      "text/plain": [
       "array([[    0,     1,     0,  2008, 32976],\n",
       "       [    0,     1,     0,  2009, 33656],\n",
       "       [    0,     1,     0,  2010, 32435],\n",
       "       ...,\n",
       "       [  751,     2,   100,  2018,    18],\n",
       "       [  751,     2,   100,  2019,    21],\n",
       "       [  751,     2,   100,  2020,    23]], dtype=uint64)"
      ]
     },
     "execution_count": 50,
     "metadata": {},
     "output_type": "execute_result"
    }
   ],
   "source": [
    "# 3 Now load your demographic data with numpy.\n",
    "\n",
    "with open('./demografic_cleaned.csv') as file:\n",
    "    data = np.loadtxt(file, delimiter = ';', dtype = np.uint)\n",
    "data"
   ]
  },
  {
   "cell_type": "code",
   "execution_count": 49,
   "metadata": {},
   "outputs": [
    {
     "data": {
      "text/plain": [
       "array([(  0, ' Hele-landet'), ( 84, ' Region-Hovedst'),\n",
       "       (101, ' København'), (147, ' Frederiksberg'), (155, ' Dragør'),\n",
       "       (185, ' Tårnby'), (165, ' Albertslund'), (151, ' Ballerup'),\n",
       "       (153, ' Brøndby'), (157, ' Gentofte'), (159, ' Gladsaxe'),\n",
       "       (161, ' Glostrup'), (163, ' Herlev'), (167, ' Hvidovre'),\n",
       "       (169, ' Høje-Taastrup'), (183, ' Ishøj'), (173, ' Lyngby-Taarbæk'),\n",
       "       (175, ' Rødovre'), (187, ' Vallensbæk'), (201, ' Allerød'),\n",
       "       (240, ' Egedal'), (210, ' Fredensborg'), (250, ' Frederikssund'),\n",
       "       (190, ' Furesø'), (270, ' Gribskov'), (260, ' Halsnæs'),\n",
       "       (217, ' Helsingør'), (219, ' Hillerød'), (223, ' Hørsholm'),\n",
       "       (230, ' Rudersdal'), (400, ' Bornholm'), (411, ' Christiansø'),\n",
       "       ( 85, ' Region-Sjællan'), (253, ' Greve'), (259, ' Køge'),\n",
       "       (350, ' Lejre'), (265, ' Roskilde'), (269, ' Solrød'),\n",
       "       (320, ' Faxe'), (376, ' Guldborgsund'), (316, ' Holbæk'),\n",
       "       (326, ' Kalundborg'), (360, ' Lolland'), (370, ' Næstved'),\n",
       "       (306, ' Odsherred'), (329, ' Ringsted'), (330, ' Slagelse'),\n",
       "       (340, ' Sorø'), (336, ' Stevns'), (390, ' Vordingborg'),\n",
       "       ( 83, ' Region-Syddanm'), (420, ' Assens'),\n",
       "       (430, ' Faaborg-Midtfy'), (440, ' Kerteminde'),\n",
       "       (482, ' Langeland'), (410, ' Middelfart'), (480, ' Nordfyns'),\n",
       "       (450, ' Nyborg'), (461, ' Odense'), (479, ' Svendborg'),\n",
       "       (492, ' Ærø'), (530, ' Billund'), (561, ' Esbjerg'),\n",
       "       (563, ' Fanø'), (607, ' Fredericia'), (510, ' Haderslev'),\n",
       "       (621, ' Kolding'), (540, ' Sønderborg'), (550, ' Tønder'),\n",
       "       (573, ' Varde'), (575, ' Vejen'), (630, ' Vejle'),\n",
       "       (580, ' Aabenraa'), ( 82, ' Region-Midtjyl'), (710, ' Favrskov'),\n",
       "       (766, ' Hedensted'), (615, ' Horsens'), (707, ' Norddjurs'),\n",
       "       (727, ' Odder'), (730, ' Randers'), (741, ' Samsø'),\n",
       "       (740, ' Silkeborg'), (746, ' Skanderborg'), (706, ' Syddjurs'),\n",
       "       (751, ' Aarhus'), (657, ' Herning'), (661, ' Holstebro'),\n",
       "       (756, ' Ikast-Brande'), (665, ' Lemvig'), (760, ' Ringkøbing-Skj'),\n",
       "       (779, ' Skive'), (671, ' Struer'), (791, ' Viborg'),\n",
       "       ( 81, ' Region-Nordjyl'), (810, ' Brønderslev'),\n",
       "       (813, ' Frederikshavn'), (860, ' Hjørring'), (849, ' Jammerbugt'),\n",
       "       (825, ' Læsø'), (846, ' Mariagerfjord'), (773, ' Morsø'),\n",
       "       (840, ' Rebild'), (787, ' Thisted'), (820, ' Vesthimmerland'),\n",
       "       (851, ' Aalborg')], dtype=[('f0', '<i8'), ('f1', '<U15')])"
      ]
     },
     "execution_count": 49,
     "metadata": {},
     "output_type": "execute_result"
    }
   ],
   "source": [
    "# 4 Use file: BY_KODER_demographics.csv to get cities from the city codes\n",
    "\n",
    "with open('../data/DKstat_bykoder.csv') as f:\n",
    "    cities = np.genfromtxt(f, delimiter = ';', dtype = ['<i8', 'U15'])\n",
    "cities"
   ]
  },
  {
   "cell_type": "code",
   "execution_count": 53,
   "metadata": {},
   "outputs": [
    {
     "name": "stdout",
     "output_type": "stream",
     "text": [
      "dict_items([(' Hele-landet', 49.74934737912075), (' Region-Hovedst', 49.083098029814195), (' Frederiksberg', 47.42871022589264), (' Bornholm', 49.49680715197957), (' Region-Sjællan', 49.853303447127715), (' Region-Syddanm', 50.00499964052172), (' Odense', 49.51125446331696), (' Esbjerg', 50.138736925029534), (' Region-Midtjyl', 50.03713192125288), (' Aarhus', 49.127060264915976), (' Region-Nordjyl', 50.505567840986366), (' Aalborg', 50.41119110374309)])\n"
     ]
    },
    {
     "name": "stderr",
     "output_type": "stream",
     "text": [
      "/opt/conda/lib/python3.7/site-packages/ipykernel_launcher.py:12: RuntimeWarning: invalid value encountered in ulong_scalars\n",
      "  if sys.path[0] == '':\n"
     ]
    },
    {
     "data": {
      "text/plain": [
       "{' Frederiksberg': 47.42871022589264,\n",
       " ' Region-Hovedst': 49.083098029814195,\n",
       " ' Aarhus': 49.127060264915976,\n",
       " ' Bornholm': 49.49680715197957,\n",
       " ' Odense': 49.51125446331696,\n",
       " ' Hele-landet': 49.74934737912075,\n",
       " ' Region-Sjællan': 49.853303447127715,\n",
       " ' Region-Syddanm': 50.00499964052172,\n",
       " ' Region-Midtjyl': 50.03713192125288,\n",
       " ' Esbjerg': 50.138736925029534,\n",
       " ' Aalborg': 50.41119110374309,\n",
       " ' Region-Nordjyl': 50.505567840986366}"
      ]
     },
     "execution_count": 53,
     "metadata": {},
     "output_type": "execute_result"
    }
   ],
   "source": [
    "# 5 Now find out which city in 2020 has the highest percentage of men (gender code 1), returning pct_male\n",
    "\n",
    "import math\n",
    "\n",
    "mask_men_2020 = data[(data[:, 1] == 1) & (data[:, 3] == 2020)]\n",
    "mask_women_2020 = data[(data[:, 1] == 2) & (data[:, 3] == 2020)]\n",
    "\n",
    "\n",
    "def summed_by_city(city_code):\n",
    "    men = mask_men_2020[mask_men_2020[:, 0] == city_code][:, -1].sum()\n",
    "    women = mask_women_2020[mask_women_2020[:, 0] == city_code][:, -1].sum()\n",
    "    res = men/(women+men)*100\n",
    "    return res\n",
    "\n",
    "cities_p_men = {}\n",
    "for city in cities:\n",
    "    res = summed_by_city(city[0])\n",
    "    if not math.isnan(res):\n",
    "        cities_p_men[city[1]] = res\n",
    "#print(type(cities_p_men))\n",
    "sorted_as_tuples = sorted(cities_p_men.items(), key = lambda item: item[1])\n",
    "cities_p_men = {k: v for k, v in sorted_as_tuples}\n",
    "cities_p_men\n",
    "\n"
   ]
  },
  {
   "cell_type": "code",
   "execution_count": 48,
   "metadata": {},
   "outputs": [
    {
     "name": "stderr",
     "output_type": "stream",
     "text": [
      "No handles with labels found to put in legend.\n"
     ]
    },
    {
     "data": {
      "text/plain": [
       "<matplotlib.legend.Legend at 0x7f424106b690>"
      ]
     },
     "execution_count": 48,
     "metadata": {},
     "output_type": "execute_result"
    },
    {
     "data": {
      "image/png": "[encoded data removed]",
      "text/plain": [
       "<Figure size 720x360 with 1 Axes>"
      ]
     },
     "metadata": {
      "needs_background": "light"
     },
     "output_type": "display_data"
    }
   ],
   "source": [
    "# 6 Create a line chart with 5 lines showing population changes in the 5 largest cities from 2008 to 2020\n",
    "\n",
    "import random as random\n",
    "\n",
    "def people_in_city(city_code):\n",
    "    res = {year: data[(data[:, 0] == city_code) & (data[:, 3] == year)][:, 4].sum() for year in np.arange(2008, 2021)}\n",
    "    return res\n",
    "\n",
    "cities_in_list = []\n",
    "\n",
    "for d in data[:, 0]:\n",
    "    if not cities_in_list.__contains__(d): \n",
    "        cities_in_list.append(d)\n",
    "\n",
    "persons_in_city = {city[1].strip(' '): \n",
    "    people_in_city(city[0]) \n",
    "    for city in cities if city[0] in cities_in_list\n",
    "    }\n",
    "\n",
    "non_cities = ['Hele-landet', 'Region-Hovedst', 'Region-Midtjyl', 'Region-Syddanm', 'Region-Sjællan', 'Region-Nordjyl']\n",
    "for non_city in non_cities:\n",
    "    persons_in_city.pop(non_city)\n",
    "\n",
    "# sort list\n",
    "sorted_as_tuples = sorted(persons_in_city.items(), key = lambda item: item[1][2020], reverse=True)\n",
    "sorted_as_tuples = sorted_as_tuples[:5]\n",
    "\n",
    "plt.figure(figsize=(10, 5))\n",
    "for k, v in sorted_as_tuples:\n",
    "    plt.plot(list(v.keys()), list(v.values()), marker='', color=[random.random(), random.random(), random.random()])\n",
    "plt.legend()\n",
    "\n",
    "\n"
   ]
  }
 ],
 "metadata": {
  "kernelspec": {
   "display_name": "Python 3",
   "language": "python",
   "name": "python3"
  },
  "language_info": {
   "codemirror_mode": {
    "name": "ipython",
    "version": 3
   },
   "file_extension": ".py",
   "mimetype": "text/x-python",
   "name": "python",
   "nbconvert_exporter": "python",
   "pygments_lexer": "ipython3",
   "version": "3.7.6"
  }
 },
 "nbformat": 4,
 "nbformat_minor": 4
}
