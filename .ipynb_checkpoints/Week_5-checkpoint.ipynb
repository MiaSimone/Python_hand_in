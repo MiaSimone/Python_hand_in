{
 "cells": [
  {
   "cell_type": "markdown",
   "metadata": {},
   "source": [
    "# Week 5 handin\n"
   ]
  },
  {
   "cell_type": "markdown",
   "metadata": {},
   "source": [
    "## Exercise 1"
   ]
  },
  {
   "cell_type": "markdown",
   "metadata": {},
   "source": [
    "5. With data aggregation and data visualization answer the following questions:"
   ]
  },
  {
   "cell_type": "markdown",
   "metadata": {},
   "source": [
    "A. What is the change in pct of divorced danes from 2008 to 2020?\n"
   ]
  },
  {
   "cell_type": "code",
   "execution_count": 1,
   "metadata": {},
   "outputs": [
    {
     "name": "stdout",
     "output_type": "stream",
     "text": [
      "552419\n"
     ]
    }
   ],
   "source": [
    "import pandas as pd\n",
    "\n",
    "filenamePop2008 = '/home/jovyan/python_handin_template/data/TotalPeople2008.csv'\n",
    "filenamePop2020 = '/home/jovyan/python_handin_template/data/TotalPeople2020.csv'\n",
    "filenameDiv2008 = '/home/jovyan/python_handin_template/data/Divorced2008.csv'\n",
    "filenameDiv2020 = '/home/jovyan/python_handin_template/data/Divorced2020.csv'\n",
    "\n",
    "dp8 = pd.read_csv(filenamePop2008, sep=';') \n",
    "first_row_all_2008 = dp8.iloc[0]\n",
    "number_of_people_2008 = first_row_all_2008['INDHOLD']\n",
    "#print(number_of_people_2008)\n",
    "\n",
    "dp20 = pd.read_csv(filenamePop2020, sep=';') \n",
    "first_row_all_2020 = dp20.iloc[0]\n",
    "number_of_people_2020 = first_row_all_2020['INDHOLD']\n",
    "#print(number_of_people_2020)\n",
    "\n",
    "dd8 = pd.read_csv(filenameDiv2008, sep=';') \n",
    "# dd8.head()\n",
    "# dd8.columns\n",
    "# print(dd8['INDHOLD'])\n",
    "first_row_divorced_2008 = dd8.iloc[0]\n",
    "number_of_people_DIV_2008 = first_row_divorced_2008['INDHOLD']\n",
    "#print(number_of_people_DIV_2008)\n",
    "\n",
    "dd20 = pd.read_csv(filenameDiv2020, sep=';') \n",
    "first_row_divorced_2020 = dd20.iloc[0]\n",
    "number_of_people_DIV_2020 = first_row_divorced_2020['INDHOLD']\n",
    "print(number_of_people_DIV_2020)"
   ]
  },
  {
   "cell_type": "markdown",
   "metadata": {},
   "source": [
    "Number of people in 2008: 5475791\n",
    "\n",
    "Number of divorced danes start 2008: 428864 \n",
    "\n",
    "---------------------------------------------------------------------\n",
    "\n",
    "Number of people in 2020: 5837213\n",
    "\n",
    "Number of divorced danes start 2008: 552419 "
   ]
  },
  {
   "cell_type": "code",
   "execution_count": 2,
   "metadata": {},
   "outputs": [
    {
     "data": {
      "text/plain": [
       "1.6317449052097857"
      ]
     },
     "execution_count": 2,
     "metadata": {},
     "output_type": "execute_result"
    }
   ],
   "source": [
    "# Procent 2008:\n",
    "\n",
    "procent_2008 = 100-(((number_of_people_2008-number_of_people_DIV_2008)/number_of_people_2008)*100)\n",
    "procent_2008\n",
    "\n",
    "# Procent 2020:\n",
    "\n",
    "procent_2020 = 100-(((number_of_people_2020-number_of_people_DIV_2020)/number_of_people_2020)*100)\n",
    "procent_2020\n",
    "\n",
    "procent_change = procent_2020-procent_2008\n",
    "\n",
    "procent_change\n"
   ]
  },
  {
   "cell_type": "markdown",
   "metadata": {},
   "source": [
    "B. Which of the 5 biggest cities has the highest percentage of 'Never Married' in 2020?"
   ]
  },
  {
   "cell_type": "code",
   "execution_count": 5,
   "metadata": {},
   "outputs": [
    {
     "name": "stdout",
     "output_type": "stream",
     "text": [
      "[1658584, 837597, 475469, 451690, 243497]\n",
      "The 5 cities with most Never Maried are: ['København', 'Frederiksberg', 'Odense', 'Aarhus', 'Aalborg']\n"
     ]
    }
   ],
   "source": [
    "filenameNeverMaried = '/home/jovyan/python_handin_template/data/NeverMariedFull.csv'\n",
    "\n",
    "nm = pd.read_csv(filenameNeverMaried, sep=';') \n",
    "nm.head()\n",
    "\n",
    "# Making an arealist of all the areas in the file, and use dict.fromkeys(list) to remove duplicates\n",
    "\n",
    "areas = nm['OMRÅDE']\n",
    "areaList = []\n",
    "for i in areas:\n",
    "    areaList.append(i)\n",
    "areaList = list(dict.fromkeys(areaList))\n",
    "#print(areaList)\n",
    "\n",
    "# Creating list of tuples with datapairs and a list with only the summed values\n",
    "\n",
    "sumList = []\n",
    "tupleList = []\n",
    "        \n",
    "for area in areaList:\n",
    "    mask2 = nm['OMRÅDE']==area\n",
    "    \n",
    "    tuple_data = area, int(nm[mask2]['INDHOLD'].sum())\n",
    "    \n",
    "    tupleList.append(tuple_data)\n",
    "                  \n",
    "    sumList.append(int(nm[mask2]['INDHOLD'].sum()))\n",
    "\n",
    "# Matching values and appending them if they match\n",
    "\n",
    "cities = []\n",
    "for tup in tupleList:\n",
    "    for num in sorted_list:\n",
    "        if tup[1]==num:\n",
    "            cities.append(tup[0])\n",
    "\n",
    "sorted_list = sorted(sumList, reverse=True)[:5]\n",
    "print(sorted_list)\n",
    "print('The 5 cities with most Never Maried are:', cities)"
   ]
  },
  {
   "cell_type": "markdown",
   "metadata": {},
   "source": [
    "C. Show a bar chart of changes in marrital status in Copenhagen from 2008 till now"
   ]
  },
  {
   "cell_type": "code",
   "execution_count": null,
   "metadata": {},
   "outputs": [],
   "source": [
    "# Asuming im only to use the coulumn Gift/sepereret because it will hold the number of marrital changes pr. kvartal\n",
    "import matplotlib.pylab as plt\n",
    "\n",
    "filenameMariedSeperated = '/home/jovyan/python_handin_template/data/MariedSeperated.csv'\n",
    "\n",
    "ms = pd.read_csv(filenameMariedSeperated, sep=';') \n",
    "ms.head()\n",
    "# TID skal være x og INDHOLD skal være y\n",
    "plt.figure(figsize = (50, 40))\n",
    "plt.bar(ms['TID'], ms['INDHOLD'])\n",
    "plt.show"
   ]
  },
  {
   "cell_type": "markdown",
   "metadata": {},
   "source": [
    "D. Show 2 plots in same figure: 'Married' and 'Never Married' for all ages in DK in 2020 (Hint: x axis is age from 0-125, y axis is how many people in the 2 categories). Add lengend to show names on graphs"
   ]
  },
  {
   "cell_type": "code",
   "execution_count": null,
   "metadata": {},
   "outputs": [],
   "source": [
    "# x is age 0-125\n",
    "# y is number of people in the two catagories\n",
    "# Im only using 2020K4\n",
    "\n",
    "import matplotlib.pylab as plt\n",
    "\n",
    "filenameNeverMariedD = '/home/jovyan/python_handin_template/data/NeverMariedD.csv'\n",
    "filenameMariedD = '/home/jovyan/python_handin_template/data/MariedD.csv'\n",
    "\n",
    "nm = pd.read_csv(filenameNeverMariedD, sep=';')\n",
    "m = pd.read_csv(filenameMariedD, sep=';')\n",
    "#print(nm.head())\n",
    "\n",
    "x = nm['ALDER'].str.strip(' år')\n",
    "y = nm['INDHOLD']\n",
    "x1 = m['ALDER'].str.strip(' år')\n",
    "y1 = m['INDHOLD']\n",
    "\n",
    "plt.figure(figsize = (40, 30))\n",
    "plt.plot(x,y, label='Never Maried')\n",
    "plt.plot(x1,y1, label='Maried')\n",
    "\n",
    "plt.legend()\n",
    "plt.show()"
   ]
  }
 ],
 "metadata": {
  "kernelspec": {
   "display_name": "Python 3",
   "language": "python",
   "name": "python3"
  },
  "language_info": {
   "codemirror_mode": {
    "name": "ipython",
    "version": 3
   },
   "file_extension": ".py",
   "mimetype": "text/x-python",
   "name": "python",
   "nbconvert_exporter": "python",
   "pygments_lexer": "ipython3",
   "version": "3.7.6"
  }
 },
 "nbformat": 4,
 "nbformat_minor": 4
}
