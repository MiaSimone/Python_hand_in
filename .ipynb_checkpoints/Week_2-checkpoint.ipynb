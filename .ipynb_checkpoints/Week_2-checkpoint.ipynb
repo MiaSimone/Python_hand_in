{
 "cells": [
  {
   "cell_type": "markdown",
   "metadata": {},
   "source": [
    "# Week 2 handin"
   ]
  },
  {
   "cell_type": "markdown",
   "metadata": {},
   "source": [
    "## Assignment\n",
    "Here is the text for the assignment linked to"
   ]
  },
  {
   "cell_type": "markdown",
   "metadata": {},
   "source": [
    "## Status\n",
    "Here is a status on the handin. How far you got. What is implemented and what is not"
   ]
  },
  {
   "cell_type": "markdown",
   "metadata": {},
   "source": [
    "## Solution part 1"
   ]
  },
  {
   "cell_type": "markdown",
   "metadata": {},
   "source": [
    "#### 1. Create a python file with 3 functions"
   ]
  },
  {
   "cell_type": "code",
   "execution_count": null,
   "metadata": {},
   "outputs": [],
   "source": [
    "from modules.week2FileFunctions import print_file_content as func\n",
    "\n",
    "file_path = '/home/jovyan/python_handin_template/modules/test.csv' \n",
    "\n",
    "func.print_file_content(file_path)"
   ]
  },
  {
   "cell_type": "code",
   "execution_count": null,
   "metadata": {},
   "outputs": [],
   "source": [
    "# First function\n",
    "\n",
    "from modules import week2ex1 as ex\n",
    "\n",
    "file_path = '/home/jovyan/python_handin_template/modules/test.csv' \n",
    "\n",
    "ex.print_file_content(file_path)"
   ]
  },
  {
   "cell_type": "code",
   "execution_count": null,
   "metadata": {},
   "outputs": [],
   "source": [
    "# Second function\n",
    "\n",
    "from modules import week2ex1 as ex\n",
    "\n",
    "file_path = '/home/jovyan/python_handin_template/modules/test.csv' \n",
    "\n",
    "lst = [(666,('Hello', 'World'),'Satan', 'Lucy')]\n",
    "\n",
    "ex.write_list_to_file(file_path, lst)\n"
   ]
  },
  {
   "cell_type": "code",
   "execution_count": null,
   "metadata": {},
   "outputs": [],
   "source": [
    "# Second part 2\n",
    "\n",
    "from modules import week2ex1 as ex\n",
    "\n",
    "file_path = '/home/jovyan/python_handin_template/modules/test.csv' \n",
    "\n",
    "ex.write_arb_to_file(file_path,'3', '400', '500', '666')\n"
   ]
  },
  {
   "cell_type": "code",
   "execution_count": null,
   "metadata": {},
   "outputs": [],
   "source": [
    "# Third function\n",
    "\n",
    "from modules import week2ex1 as ex\n",
    "\n",
    "file_path = '/home/jovyan/python_handin_template/modules/test.csv' \n",
    "\n",
    "ex.read_csv(file_path)\n"
   ]
  },
  {
   "cell_type": "markdown",
   "metadata": {},
   "source": [
    "#### 2. Add a functionality so that the file can be called from cli with 2 arguments"
   ]
  },
  {
   "cell_type": "markdown",
   "metadata": {},
   "source": [
    "See cliExercise.py in VSC"
   ]
  },
  {
   "cell_type": "markdown",
   "metadata": {},
   "source": [
    "## Solution part 2"
   ]
  },
  {
   "cell_type": "code",
   "execution_count": null,
   "metadata": {},
   "outputs": [],
   "source": [
    "# 1. takes a path to a folder and writes all filenames in the folder to a specified output file\n",
    "\n",
    "from modules.week2 import utils\n",
    "\n",
    "utils.get_file_names('modules/week2/')\n",
    "\n",
    "'specify file using out=\"\", or check default modules/week2/output.txt'"
   ]
  },
  {
   "cell_type": "code",
   "execution_count": null,
   "metadata": {},
   "outputs": [],
   "source": [
    "# 2. takes a path to a folder and write all filenames recursively (files of all sub folders to)\n",
    "\n",
    "from modules.week2 import utils\n",
    "\n",
    "utils.get_all_file_names('modules/week2/')\n",
    "\n",
    "'specify file using out=\"\", or check default modules/week2/output.txt'"
   ]
  },
  {
   "cell_type": "code",
   "execution_count": null,
   "metadata": {},
   "outputs": [],
   "source": [
    "# 3. takes a list of filenames and print the first line of each\n",
    "\n",
    "from modules.week2 import utils\n",
    "\n",
    "lst_files = ['modules/week2/output.txt', 'modules/week2/writeTuples.txt']\n",
    "\n",
    "utils.print_line_one(lst_files)\n"
   ]
  },
  {
   "cell_type": "code",
   "execution_count": null,
   "metadata": {},
   "outputs": [],
   "source": [
    "# 4. takes a list of filenames and print each line that contains an email (just look for @)\n",
    "\n",
    "from modules.week2 import utils\n",
    "\n",
    "lst_files = ['modules/week2/output.txt', 'modules/week2/writeTuples.txt']\n",
    "\n",
    "utils.print_emails(lst_files)"
   ]
  },
  {
   "cell_type": "code",
   "execution_count": 2,
   "metadata": {},
   "outputs": [
    {
     "data": {
      "text/plain": [
       "'specify file using out=\"\", or check default modules/week2/output.txt'"
      ]
     },
     "execution_count": 2,
     "metadata": {},
     "output_type": "execute_result"
    }
   ],
   "source": [
    "# 5. takes a list of md files and writes all headlines (lines starting with #) to a file\n",
    "\n",
    "from modules.week2 import utils\n",
    "\n",
    "utils.write_headlines(['/home/jovyan/python_handin_template/README.md'])\n",
    "\n",
    "'specify file using out=\"\", or check default modules/week2/output.txt'"
   ]
  }
 ],
 "metadata": {
  "kernelspec": {
   "display_name": "Python 3",
   "language": "python",
   "name": "python3"
  },
  "language_info": {
   "codemirror_mode": {
    "name": "ipython",
    "version": 3
   },
   "file_extension": ".py",
   "mimetype": "text/x-python",
   "name": "python",
   "nbconvert_exporter": "python",
   "pygments_lexer": "ipython3",
   "version": "3.7.6"
  }
 },
 "nbformat": 4,
 "nbformat_minor": 4
}
