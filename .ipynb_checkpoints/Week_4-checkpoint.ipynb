{
 "cells": [
  {
   "cell_type": "markdown",
   "metadata": {},
   "source": [
    "# Week 4 handin\n"
   ]
  },
  {
   "cell_type": "markdown",
   "metadata": {},
   "source": [
    "Use only numpy (not pandas) in these exercises"
   ]
  },
  {
   "cell_type": "markdown",
   "metadata": {},
   "source": [
    "## Exercise 1"
   ]
  },
  {
   "cell_type": "code",
   "execution_count": 1,
   "metadata": {},
   "outputs": [
    {
     "data": {
      "text/plain": [
       "{1: 'Indre By',\n",
       " 2: 'Østerbro',\n",
       " 3: 'Nørrebro',\n",
       " 4: 'Vesterbro/Kgs. Enghave',\n",
       " 5: 'Valby',\n",
       " 6: 'Vanløse',\n",
       " 7: 'Brønshøj-Husum',\n",
       " 8: 'Bispebjerg',\n",
       " 9: 'Amager Øst',\n",
       " 10: 'Amager Vest',\n",
       " 99: 'Udenfor'}"
      ]
     },
     "execution_count": 1,
     "metadata": {},
     "output_type": "execute_result"
    }
   ],
   "source": [
    "import numpy as np\n",
    "\n",
    "filename = '/home/jovyan/data/befkbhalderstatkode.csv'\n",
    "\n",
    "bef_stats_df = np.genfromtxt(filename, delimiter=',', dtype=np.uint, skip_header=1)\n",
    "\n",
    "neighb = {1: 'Indre By', 2: 'Østerbro', 3: 'Nørrebro', 4: 'Vesterbro/Kgs. Enghave', \n",
    "       5: 'Valby', 6: 'Vanløse', 7: 'Brønshøj-Husum', 8: 'Bispebjerg', 9: 'Amager Øst', \n",
    "       10: 'Amager Vest', 99: 'Udenfor'}\n",
    "\n",
    "# Value of the area code (second column, index 1): print(neighb[1])\n",
    "neighb"
   ]
  },
  {
   "cell_type": "markdown",
   "metadata": {},
   "source": [
    "##### 3. Find out how many people lived in each of the 11 areas in 2015"
   ]
  },
  {
   "cell_type": "code",
   "execution_count": 2,
   "metadata": {},
   "outputs": [
    {
     "name": "stdout",
     "output_type": "stream",
     "text": [
      "Population in each area: \n",
      "[51937, 75113, 78802, 61623, 51727, 39537, 43908, 53604, 55205, 64967, 3872]\n"
     ]
    }
   ],
   "source": [
    "dd = bef_stats_df\n",
    "#mask = (dd[:,0] == 2015) & (dd[:,1] == 1)\n",
    "\n",
    "people_amount = []\n",
    "\n",
    "keys = []\n",
    "values = []\n",
    "for key in neighb:\n",
    "    keys.append(key)\n",
    "    values.append(neighb[key])\n",
    "\n",
    "for key in keys:\n",
    "    mask = (dd[:,0] == 2015) & (dd[:,1] == key)\n",
    "    people_amount.append(np.sum(dd[mask][:,4]))\n",
    "    \n",
    "\n",
    "print('Population in each area: \\n' + str(people_amount))\n"
   ]
  },
  {
   "cell_type": "markdown",
   "metadata": {},
   "source": [
    "##### 4. Make a bar plot to show the size of each city area from the smallest to the largest"
   ]
  },
  {
   "cell_type": "code",
   "execution_count": 3,
   "metadata": {},
   "outputs": [
    {
     "data": {
      "text/plain": [
       "(1.0, 10.0, 3000.0, 80000.0)"
      ]
     },
     "execution_count": 3,
     "metadata": {},
     "output_type": "execute_result"
    },
    {
     "data": {
      "image/png": "[encoded data removed]",
      "text/plain": [
       "<Figure size 432x288 with 1 Axes>"
      ]
     },
     "metadata": {
      "needs_background": "light"
     },
     "output_type": "display_data"
    }
   ],
   "source": [
    "# Asuming by 'size' it means the size of the population\n",
    "\n",
    "import matplotlib.pyplot as plt\n",
    "\n",
    "people_amount.sort()\n",
    "\n",
    "plt.bar(list(set(dd[:,1])), people_amount)\n",
    "plt.axis([1,10,3000,80000])"
   ]
  },
  {
   "cell_type": "markdown",
   "metadata": {},
   "source": [
    "##### 5. Create a boolean mask to find out how many people above 65 years lived in Copenhagen in 2015"
   ]
  },
  {
   "cell_type": "code",
   "execution_count": 4,
   "metadata": {},
   "outputs": [
    {
     "name": "stdout",
     "output_type": "stream",
     "text": [
      "There are 55750 people living in CPH over the age of 65.\n"
     ]
    }
   ],
   "source": [
    "bool_mask = (dd[:,0] == 2015) & (dd[:,2] > 65)\n",
    "\n",
    "# Alder: col 2 = 65\n",
    "# copenhagen: col 1 = sum of 1-10\n",
    "# aar: col 0 = 2015\n",
    "\n",
    "old_people = np.sum(dd[bool_mask][:,4])\n",
    "\n",
    "print('There are',old_people, 'people living in CPH over the age of 65.')"
   ]
  },
  {
   "cell_type": "markdown",
   "metadata": {},
   "source": [
    "##### 6. How many of those were from the other nordic countries (not dk)"
   ]
  },
  {
   "cell_type": "code",
   "execution_count": 5,
   "metadata": {},
   "outputs": [
    {
     "name": "stdout",
     "output_type": "stream",
     "text": [
      "52299\n"
     ]
    }
   ],
   "source": [
    "# Danes (STATKODE == 5100)\n",
    "\n",
    "bool_mask2 = (dd[:,2] > 65) & (dd[:,0] == 2015) & (dd[:,3] == 5100)\n",
    "\n",
    "old_people_danes = np.sum(dd[bool_mask2][:,4])\n",
    "\n",
    "print(old_people_danes)"
   ]
  },
  {
   "cell_type": "markdown",
   "metadata": {},
   "source": [
    "##### 7. Make a line plot showing the changes of number of people in vesterbro and østerbro from 1992 to 2015"
   ]
  },
  {
   "cell_type": "code",
   "execution_count": 22,
   "metadata": {},
   "outputs": [
    {
     "name": "stdout",
     "output_type": "stream",
     "text": [
      "[47854, 47589, 47538, 47633, 47734, 48275, 49109, 49520, 50312, 50756, 51039, 51045, 50869, 50643, 50303, 50964, 51466, 53351, 55315, 57150, 58411, 59211, 60328, 61623]\n"
     ]
    },
    {
     "data": {
      "image/png": "[encoded data removed]",
      "text/plain": [
       "<Figure size 432x288 with 1 Axes>"
      ]
     },
     "metadata": {
      "needs_background": "light"
     },
     "output_type": "display_data"
    }
   ],
   "source": [
    "# Change in vesterbro 1992 to 2015 as list:\n",
    "import matplotlib.pyplot as plt\n",
    "\n",
    "years = [1992, 1993, 1994, 1995, 1996, 1997, 1998, 1999, 2000, 2001, 2002, 2003, 2004, 2005, 2006, 2007, 2008, 2009, 2010, 2011, 2012, 2013, 2014, 2015]\n",
    "\n",
    "vesterbro = []\n",
    "numberV = 0\n",
    "\n",
    "for y in years:\n",
    "    maskV = (dd[:,1] == 4) & (dd[:,0] == y)\n",
    "    numberV = np.sum(dd[maskV][:,4])\n",
    "    vesterbro.append(numberV)\n",
    "\n",
    "print(vesterbro)\n",
    "\n",
    "plt.plot(years, vesterbro)\n",
    "plt.show()\n"
   ]
  }
 ],
 "metadata": {
  "kernelspec": {
   "display_name": "Python 3",
   "language": "python",
   "name": "python3"
  },
  "language_info": {
   "codemirror_mode": {
    "name": "ipython",
    "version": 3
   },
   "file_extension": ".py",
   "mimetype": "text/x-python",
   "name": "python",
   "nbconvert_exporter": "python",
   "pygments_lexer": "ipython3",
   "version": "3.7.6"
  }
 },
 "nbformat": 4,
 "nbformat_minor": 4
}
