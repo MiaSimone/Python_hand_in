{
 "cells": [
  {
   "cell_type": "markdown",
   "metadata": {},
   "source": [
    "# Week 7 handin"
   ]
  },
  {
   "cell_type": "code",
   "execution_count": 2,
   "metadata": {},
   "outputs": [],
   "source": [
    "from selenium import webdriver\n",
    "from selenium.webdriver.firefox.options import Options\n",
    "import bs4\n",
    "import json"
   ]
  },
  {
   "cell_type": "markdown",
   "metadata": {},
   "source": [
    "1) Go to the 'Lige Nu' site and print the first article on the timeline"
   ]
  },
  {
   "cell_type": "code",
   "execution_count": null,
   "metadata": {},
   "outputs": [],
   "source": [
    "url = 'https://tv2.dk/'\n",
    "def ligeNu_article():\n",
    "    opts = Options()\n",
    "    opts.log.level = \"trace\"\n",
    "    #driver = Firefox(options=opts)\n",
    "    browser = webdriver.Firefox(options=opts)\n",
    "    browser.get(url)\n",
    "    browser.implicitly_wait(2)\n",
    "    button = browser.find_element_by_xpath('/html/body/div[1]/div/div/div/div[2]/div/button[1]')\n",
    "    button.click()\n",
    "    button = browser.find_element_by_xpath('/html/body/div[3]/main/section[1]/header/h2/a')\n",
    "    button.click()\n",
    "    text = browser.find_element_by_xpath('/html/body/div/main/section[1]/div[2]/div/div/div[2]/div/div[2]/article[1]/div/div/div/p')\n",
    "    return text\n",
    "    "
   ]
  },
  {
   "cell_type": "code",
   "execution_count": null,
   "metadata": {},
   "outputs": [],
   "source": [
    "articleText = ligeNu_article()\n",
    "print(articleText)"
   ]
  },
  {
   "cell_type": "markdown",
   "metadata": {},
   "source": [
    "2) Create a function to download an image. Go to the weather page and download the 'Lige Nu' weather picture with your function."
   ]
  },
  {
   "cell_type": "code",
   "execution_count": null,
   "metadata": {},
   "outputs": [],
   "source": [
    "url = 'https://tv2.dk/'\n",
    "def weather_picture():\n",
    "    opts = Options()\n",
    "    opts.log.level = \"trace\"\n",
    "    #driver = Firefox(options=opts)\n",
    "    browser = webdriver.Firefox(options=opts)\n",
    "    browser.get(url)\n",
    "    browser.implicitly_wait(2)\n",
    "    button = browser.find_element_by_xpath('/html/body/div[1]/div/div/div/div[2]/div/button[1]')\n",
    "    button.click()\n",
    "    button = browser.find_element_by_xpath('/html/body/header/div[2]/nav/ul/li[2]/a')\n",
    "    button.click()\n",
    "    image = browser.find_element_by_xpath('/html/body/div[2]/main/section[1]/div/div/article/ul/li[1]/div[1]/img')\n",
    "    print(image)\n",
    "    "
   ]
  }
 ],
 "metadata": {
  "kernelspec": {
   "display_name": "Python 3",
   "language": "python",
   "name": "python3"
  },
  "language_info": {
   "codemirror_mode": {
    "name": "ipython",
    "version": 3
   },
   "file_extension": ".py",
   "mimetype": "text/x-python",
   "name": "python",
   "nbconvert_exporter": "python",
   "pygments_lexer": "ipython3",
   "version": "3.7.6"
  }
 },
 "nbformat": 4,
 "nbformat_minor": 4
}
